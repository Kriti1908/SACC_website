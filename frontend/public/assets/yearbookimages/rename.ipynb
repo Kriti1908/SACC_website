{
    "cells": [
        {
            "cell_type": "code",
            "execution_count": 9,
            "metadata": {},
            "outputs": [],
            "source": [
                "import os\n",
                "\n",
                "# Specify the path to the folder containing the images\n",
                "\n"
            ]
        },
        {
            "cell_type": "code",
            "execution_count": 10,
            "metadata": {},
            "outputs": [
                {
                    "name": "stdout",
                    "output_type": "stream",
                    "text": [
                        "image_159.jpg has been renamed to image_YB19_159.jpg\n"
                    ]
                }
            ],
            "source": [
                "\n",
                "# List of original file names\n",
                "original_files = [\n",
                "    \"image_{}.jpg\".format(i) for i in range(159, 160)\n",
                "]\n",
                "\n",
                "# Desired new file name prefix\n",
                "new_filename_prefix = \"image_YB19_\"\n",
                "\n",
                "# Rename each file\n",
                "for i, original_filename in enumerate(original_files, start=159):\n",
                "    new_filename = f\"{new_filename_prefix}{i}.jpg\"\n",
                "    os.rename(original_filename, new_filename)\n",
                "    print(f\"{original_filename} has been renamed to {new_filename}\")\n"
            ]
        },
        {
            "cell_type": "code",
            "execution_count": null,
            "metadata": {},
            "outputs": [],
            "source": []
        }
    ],
    "metadata": {
        "kernelspec": {
            "display_name": "Python 3",
            "language": "python",
            "name": "python3"
        },
        "language_info": {
            "codemirror_mode": {
                "name": "ipython",
                "version": 3
            },
            "file_extension": ".py",
            "mimetype": "text/x-python",
            "name": "python",
            "nbconvert_exporter": "python",
            "pygments_lexer": "ipython3",
            "version": "3.8.10"
        }
    },
    "nbformat": 4,
    "nbformat_minor": 2
}